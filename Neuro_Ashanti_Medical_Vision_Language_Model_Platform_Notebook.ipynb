{
  "nbformat": 4,
  "nbformat_minor": 0,
  "metadata": {
    "colab": {
      "provenance": []
    },
    "kernelspec": {
      "name": "python3",
      "display_name": "Python 3"
    },
    "language_info": {
      "name": "python"
    }
  },
  "cells": [
    {
      "cell_type": "code",
      "execution_count": null,
      "metadata": {
        "id": "UNSQCsI9Zj2w"
      },
      "outputs": [],
      "source": [
        "!git clone https://github.com/Ctankomah/Neuro-Ashanti-Medical-Vision-Language-Model-Platform-for-Image-Analysis-and-Report-Generation\n",
        "%cd Neuro-Ashanti-Medical-Vision-Language-Model-Platform-for-Image-Analysis-and-Report-Generation"
      ]
    },
    {
      "cell_type": "code",
      "source": [
        "!pip -q install -r requirements.txt\n",
        "!npm install localtunnel"
      ],
      "metadata": {
        "id": "wuKYnCOwaZKt"
      },
      "execution_count": null,
      "outputs": []
    },
    {
      "cell_type": "code",
      "source": [
        "!streamlit run app.py &>logs.txt &"
      ],
      "metadata": {
        "id": "ttrr_zdbaacg"
      },
      "execution_count": null,
      "outputs": []
    },
    {
      "cell_type": "code",
      "source": [
        "# get tunnel password from logs\n",
        "\n",
        "with open('logs.txt') as file:\n",
        "  print(f\"Password is: {file.readlines()[8].split('External URL: http://')[1].split(':8')[0]}\")"
      ],
      "metadata": {
        "id": "I34_UP51gLyy"
      },
      "execution_count": null,
      "outputs": []
    },
    {
      "cell_type": "code",
      "source": [
        "# open tunnel link & copy/paste the password above\n",
        "\n",
        "!npx localtunnel --port 8501"
      ],
      "metadata": {
        "id": "0SrvTEVUgcma"
      },
      "execution_count": null,
      "outputs": []
    }
  ]
}